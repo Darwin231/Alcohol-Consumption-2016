{
 "cells": [
  {
   "cell_type": "code",
   "execution_count": 5,
   "id": "2cebcd46",
   "metadata": {
    "_cell_guid": "b1076dfc-b9ad-4769-8c92-a6c4dae69d19",
    "_uuid": "8f2839f25d086af736a60e9eeb907d3b93b6e0e5",
    "execution": {
     "iopub.execute_input": "2022-12-13T17:59:23.595594Z",
     "iopub.status.busy": "2022-12-13T17:59:23.595099Z",
     "iopub.status.idle": "2022-12-13T17:59:36.283153Z",
     "shell.execute_reply": "2022-12-13T17:59:36.281755Z"
    },
    "papermill": {
     "duration": 12.698004,
     "end_time": "2022-12-13T17:59:36.285627",
     "exception": false,
     "start_time": "2022-12-13T17:59:23.587623",
     "status": "completed"
    },
    "tags": []
   },
   "outputs": [],
   "source": [
    "\n",
    "import numpy as np # linear algebra\n",
    "import pandas as pd # data processing, CSV file I/O (e.g. pd.read_csv)\n",
    "import seaborn as sns\n",
    "import matplotlib.pyplot as plt\n",
    "import pycountry as country #To get countries population\n",
    "import wbdata\n",
    "import warnings #We are working with filtered dataframes\n",
    "warnings.filterwarnings('ignore')\n",
    "\n",
    "import requests\n"
   ]
  },
  {
   "cell_type": "code",
   "execution_count": 6,
   "id": "3cbbaf1b",
   "metadata": {},
   "outputs": [],
   "source": [
    "pd.set_option('display.float_format', lambda x: '%.5f' % x)"
   ]
  },
  {
   "cell_type": "code",
   "execution_count": 8,
   "id": "91cb4966",
   "metadata": {},
   "outputs": [],
   "source": [
    "url = 'https://www.kaggle.com/datasets/mattop/alcohol-consumption-per-capita-2016/download?datasetVersionNumber=1'"
   ]
  },
  {
   "cell_type": "code",
   "execution_count": 11,
   "id": "4aa54405",
   "metadata": {},
   "outputs": [],
   "source": [
    "req = requests.get(url)"
   ]
  },
  {
   "cell_type": "code",
   "execution_count": 15,
   "id": "7b811042",
   "metadata": {},
   "outputs": [
    {
     "name": "stdout",
     "output_type": "stream",
     "text": [
      "zsh:1: command not found: kaggle\r\n"
     ]
    }
   ],
   "source": [
    "!kaggle datasets download -d mattop/alcohol-consumption-per-capita-2016"
   ]
  },
  {
   "cell_type": "markdown",
   "id": "eaa51e7f",
   "metadata": {
    "papermill": {
     "duration": 0.004261,
     "end_time": "2022-12-13T17:59:36.294179",
     "exception": false,
     "start_time": "2022-12-13T17:59:36.289918",
     "status": "completed"
    },
    "tags": []
   },
   "source": [
    "## 1. Data Preparation"
   ]
  },
  {
   "cell_type": "code",
   "execution_count": 3,
   "id": "aced1232",
   "metadata": {
    "execution": {
     "iopub.execute_input": "2022-12-13T17:59:36.303587Z",
     "iopub.status.busy": "2022-12-13T17:59:36.303293Z",
     "iopub.status.idle": "2022-12-13T17:59:36.320588Z",
     "shell.execute_reply": "2022-12-13T17:59:36.319537Z"
    },
    "papermill": {
     "duration": 0.02454,
     "end_time": "2022-12-13T17:59:36.322644",
     "exception": false,
     "start_time": "2022-12-13T17:59:36.298104",
     "status": "completed"
    },
    "tags": []
   },
   "outputs": [],
   "source": [
    "# DataFrame\n",
    "alc_consum = pd.read_csv('alcohol-consumption.csv')"
   ]
  },
  {
   "cell_type": "code",
   "execution_count": 4,
   "id": "d2a238d4",
   "metadata": {
    "execution": {
     "iopub.execute_input": "2022-12-13T17:59:36.333327Z",
     "iopub.status.busy": "2022-12-13T17:59:36.332499Z",
     "iopub.status.idle": "2022-12-13T17:59:36.347613Z",
     "shell.execute_reply": "2022-12-13T17:59:36.346471Z"
    },
    "papermill": {
     "duration": 0.022599,
     "end_time": "2022-12-13T17:59:36.349730",
     "exception": false,
     "start_time": "2022-12-13T17:59:36.327131",
     "status": "completed"
    },
    "tags": []
   },
   "outputs": [
    {
     "data": {
      "text/plain": [
       "country                    0\n",
       "total_consumption          0\n",
       "recorded_consumption       0\n",
       "unrecorded_consumption     0\n",
       "beer_percentage           10\n",
       "wine_percentage           10\n",
       "spirits_percentage        10\n",
       "other_percentage          10\n",
       "2020_projection            0\n",
       "2025_projection            0\n",
       "dtype: int64"
      ]
     },
     "execution_count": 4,
     "metadata": {},
     "output_type": "execute_result"
    }
   ],
   "source": [
    "#Empty or null values\n",
    "\n",
    "#The same 10 countries have null or empty values\n",
    "alc_consum.isnull().sum()"
   ]
  },
  {
   "cell_type": "code",
   "execution_count": 5,
   "id": "73a3c9b7",
   "metadata": {
    "execution": {
     "iopub.execute_input": "2022-12-13T17:59:36.360187Z",
     "iopub.status.busy": "2022-12-13T17:59:36.359280Z",
     "iopub.status.idle": "2022-12-13T17:59:36.369984Z",
     "shell.execute_reply": "2022-12-13T17:59:36.369127Z"
    },
    "papermill": {
     "duration": 0.017654,
     "end_time": "2022-12-13T17:59:36.372068",
     "exception": false,
     "start_time": "2022-12-13T17:59:36.354414",
     "status": "completed"
    },
    "tags": []
   },
   "outputs": [],
   "source": [
    "#null values country\n",
    "\n",
    "#Column beer_percentage is just \n",
    "\n",
    "nulls = alc_consum[alc_consum['beer_percentage'].isnull() == True]"
   ]
  },
  {
   "cell_type": "markdown",
   "id": "b651240d",
   "metadata": {
    "papermill": {
     "duration": 0.003922,
     "end_time": "2022-12-13T17:59:36.380164",
     "exception": false,
     "start_time": "2022-12-13T17:59:36.376242",
     "status": "completed"
    },
    "tags": []
   },
   "source": [
    "Explanation: In these 10 countires drinking alcohol is illegal\n",
    "\n",
    "We will take them out as we cannot use them for this study.\n"
   ]
  },
  {
   "cell_type": "code",
   "execution_count": 6,
   "id": "9f357e40",
   "metadata": {
    "execution": {
     "iopub.execute_input": "2022-12-13T17:59:36.389838Z",
     "iopub.status.busy": "2022-12-13T17:59:36.388950Z",
     "iopub.status.idle": "2022-12-13T17:59:36.394530Z",
     "shell.execute_reply": "2022-12-13T17:59:36.393641Z"
    },
    "papermill": {
     "duration": 0.01248,
     "end_time": "2022-12-13T17:59:36.396736",
     "exception": false,
     "start_time": "2022-12-13T17:59:36.384256",
     "status": "completed"
    },
    "tags": []
   },
   "outputs": [],
   "source": [
    "# New dataframe to use\n",
    "alc_consum = alc_consum[alc_consum['beer_percentage'].isnull() == False]"
   ]
  },
  {
   "cell_type": "markdown",
   "id": "9bff67cd",
   "metadata": {
    "papermill": {
     "duration": 0.004338,
     "end_time": "2022-12-13T17:59:36.405572",
     "exception": false,
     "start_time": "2022-12-13T17:59:36.401234",
     "status": "completed"
    },
    "tags": []
   },
   "source": [
    "## 2. Data Preparation\n",
    "\n",
    "I want to know the countries with more alcohol consumption, classified by the type of alcohol."
   ]
  },
  {
   "cell_type": "markdown",
   "id": "4ea588b2",
   "metadata": {
    "papermill": {
     "duration": 0.004122,
     "end_time": "2022-12-13T17:59:36.414151",
     "exception": false,
     "start_time": "2022-12-13T17:59:36.410029",
     "status": "completed"
    },
    "tags": []
   },
   "source": [
    "1. Step: Take countries Alpha ISO 3166-1 with 3 letter\n",
    "2. Take the population of each country for 2016\n",
    "3. EDA and statistics"
   ]
  },
  {
   "cell_type": "code",
   "execution_count": 7,
   "id": "b018caf7",
   "metadata": {
    "execution": {
     "iopub.execute_input": "2022-12-13T17:59:36.423737Z",
     "iopub.status.busy": "2022-12-13T17:59:36.422892Z",
     "iopub.status.idle": "2022-12-13T17:59:36.431758Z",
     "shell.execute_reply": "2022-12-13T17:59:36.430867Z"
    },
    "papermill": {
     "duration": 0.015587,
     "end_time": "2022-12-13T17:59:36.433723",
     "exception": false,
     "start_time": "2022-12-13T17:59:36.418136",
     "status": "completed"
    },
    "tags": []
   },
   "outputs": [],
   "source": [
    "#Iso 3166-1\n",
    "\n",
    "#Create dict with all the alpha 3166-1\n",
    "country_list = {i.name: i.alpha_3 for i in country.countries} \n"
   ]
  },
  {
   "cell_type": "code",
   "execution_count": 8,
   "id": "1a9e2e3d",
   "metadata": {
    "execution": {
     "iopub.execute_input": "2022-12-13T17:59:36.443520Z",
     "iopub.status.busy": "2022-12-13T17:59:36.442872Z",
     "iopub.status.idle": "2022-12-13T17:59:36.451396Z",
     "shell.execute_reply": "2022-12-13T17:59:36.450354Z"
    },
    "papermill": {
     "duration": 0.015564,
     "end_time": "2022-12-13T17:59:36.453336",
     "exception": false,
     "start_time": "2022-12-13T17:59:36.437772",
     "status": "completed"
    },
    "tags": []
   },
   "outputs": [],
   "source": [
    "#Renaming countries according the pycountry API\n",
    "alc_consum['country'].replace({'Czech Republic':'Czechia',\n",
    "                               'Moldova':'Moldova, Republic of',\n",
    "                               'Russia':'Russian Federation',\n",
    "                               'Laos':\"Lao People's Democratic Republic\",\n",
    "                               'South Korea':'Korea, Republic of',\n",
    "                               'Tanzania':'Tanzania, United Republic of',\n",
    "                               'Ivory Coast':\"Côte d'Ivoire\",\n",
    "                               'Vietnam':'Viet Nam',\n",
    "                               'São Tomé and Príncipe':'Sao Tome and Principe',\n",
    "                               'Cape Verde':'Cabo Verde',\n",
    "                               'Venezuela':'Venezuela, Bolivarian Republic of',\n",
    "                               'Bolivia':'Bolivia, Plurinational State of',\n",
    "                               'North Korea':\"Korea, Democratic People's Republic of\",\n",
    "                               'DR Congo':'Congo, The Democratic Republic of the',\n",
    "                               'Micronesia':'Micronesia, Federated States of',\n",
    "                               'East Timor':'Timor-Leste',\n",
    "                               'Brunei':'Brunei Darussalam',\n",
    "                               'Syria':'Syrian Arab Republic'\n",
    "                              }, inplace=True)\n"
   ]
  },
  {
   "cell_type": "code",
   "execution_count": 9,
   "id": "528a561c",
   "metadata": {
    "execution": {
     "iopub.execute_input": "2022-12-13T17:59:36.463263Z",
     "iopub.status.busy": "2022-12-13T17:59:36.462514Z",
     "iopub.status.idle": "2022-12-13T17:59:36.470016Z",
     "shell.execute_reply": "2022-12-13T17:59:36.469042Z"
    },
    "papermill": {
     "duration": 0.0146,
     "end_time": "2022-12-13T17:59:36.472058",
     "exception": false,
     "start_time": "2022-12-13T17:59:36.457458",
     "status": "completed"
    },
    "tags": []
   },
   "outputs": [
    {
     "data": {
      "text/plain": [
       "179"
      ]
     },
     "execution_count": 9,
     "metadata": {},
     "output_type": "execute_result"
    }
   ],
   "source": [
    "#Create column with alpha2 ISO 3166-1\n",
    "\n",
    "alpha_country = [country_list[i] for i in alc_consum.country]\n",
    "alc_consum['alpha3'] = alpha_country\n",
    "\n",
    "len(alc_consum['alpha3'])"
   ]
  },
  {
   "cell_type": "code",
   "execution_count": 10,
   "id": "798b812c",
   "metadata": {
    "execution": {
     "iopub.execute_input": "2022-12-13T17:59:36.482128Z",
     "iopub.status.busy": "2022-12-13T17:59:36.481370Z",
     "iopub.status.idle": "2022-12-13T17:59:42.032021Z",
     "shell.execute_reply": "2022-12-13T17:59:42.031071Z"
    },
    "papermill": {
     "duration": 5.558232,
     "end_time": "2022-12-13T17:59:42.034540",
     "exception": false,
     "start_time": "2022-12-13T17:59:36.476308",
     "status": "completed"
    },
    "tags": []
   },
   "outputs": [],
   "source": [
    "#World Bank API\n",
    "wbdata.get_source(40)\n",
    "wbdata.get_indicator(source=40)\n",
    "\n",
    "#World population code\n",
    "data = wbdata.get_data('SP.POP.TOTL')\n",
    "\n",
    "#Year 2016\n",
    "df = pd.DataFrame(data)\n",
    "df = df[df['date']=='2016']\n",
    "df = df[['countryiso3code', 'date', 'value']]\n",
    "df = df.set_index(df['countryiso3code']) #Set index for a better search"
   ]
  },
  {
   "cell_type": "code",
   "execution_count": 11,
   "id": "6609bef5",
   "metadata": {
    "execution": {
     "iopub.execute_input": "2022-12-13T17:59:42.045796Z",
     "iopub.status.busy": "2022-12-13T17:59:42.045499Z",
     "iopub.status.idle": "2022-12-13T17:59:42.063195Z",
     "shell.execute_reply": "2022-12-13T17:59:42.062213Z"
    },
    "papermill": {
     "duration": 0.026529,
     "end_time": "2022-12-13T17:59:42.065579",
     "exception": false,
     "start_time": "2022-12-13T17:59:42.039050",
     "status": "completed"
    },
    "tags": []
   },
   "outputs": [],
   "source": [
    "#Join data between population and alcohol consumption\n",
    "ind = alc_consum.set_index('alpha3') #Index alpha3 fro the join\n",
    "ind = ind.join(df)\n",
    "ind = ind.reset_index(drop=True)\n",
    "\n",
    "#Manually adding population for Cook island, Eritrea and Niue island\n",
    "ind.value.loc[35] = 17459\n",
    "ind.value.loc[51] = 4954645\n",
    "ind.value.loc[120] = 1614\n"
   ]
  },
  {
   "cell_type": "code",
   "execution_count": 12,
   "id": "ce8854bc",
   "metadata": {},
   "outputs": [
    {
     "data": {
      "text/html": [
       "<div>\n",
       "<style scoped>\n",
       "    .dataframe tbody tr th:only-of-type {\n",
       "        vertical-align: middle;\n",
       "    }\n",
       "\n",
       "    .dataframe tbody tr th {\n",
       "        vertical-align: top;\n",
       "    }\n",
       "\n",
       "    .dataframe thead th {\n",
       "        text-align: right;\n",
       "    }\n",
       "</style>\n",
       "<table border=\"1\" class=\"dataframe\">\n",
       "  <thead>\n",
       "    <tr style=\"text-align: right;\">\n",
       "      <th></th>\n",
       "      <th>country</th>\n",
       "      <th>total_consumption</th>\n",
       "      <th>recorded_consumption</th>\n",
       "      <th>unrecorded_consumption</th>\n",
       "      <th>beer_percentage</th>\n",
       "      <th>wine_percentage</th>\n",
       "      <th>spirits_percentage</th>\n",
       "      <th>other_percentage</th>\n",
       "      <th>2020_projection</th>\n",
       "      <th>2025_projection</th>\n",
       "      <th>countryiso3code</th>\n",
       "      <th>date</th>\n",
       "      <th>value</th>\n",
       "    </tr>\n",
       "  </thead>\n",
       "  <tbody>\n",
       "    <tr>\n",
       "      <th>0</th>\n",
       "      <td>Angola</td>\n",
       "      <td>6.40000</td>\n",
       "      <td>5.00000</td>\n",
       "      <td>1.40000</td>\n",
       "      <td>70.30000</td>\n",
       "      <td>17.60000</td>\n",
       "      <td>11.30000</td>\n",
       "      <td>0.80000</td>\n",
       "      <td>6.10000</td>\n",
       "      <td>6.60000</td>\n",
       "      <td>AGO</td>\n",
       "      <td>2016</td>\n",
       "      <td>28842482.00000</td>\n",
       "    </tr>\n",
       "    <tr>\n",
       "      <th>1</th>\n",
       "      <td>Albania</td>\n",
       "      <td>7.50000</td>\n",
       "      <td>5.00000</td>\n",
       "      <td>2.50000</td>\n",
       "      <td>34.30000</td>\n",
       "      <td>26.50000</td>\n",
       "      <td>37.60000</td>\n",
       "      <td>1.70000</td>\n",
       "      <td>8.30000</td>\n",
       "      <td>9.20000</td>\n",
       "      <td>ALB</td>\n",
       "      <td>2016</td>\n",
       "      <td>2876101.00000</td>\n",
       "    </tr>\n",
       "    <tr>\n",
       "      <th>2</th>\n",
       "      <td>Andorra</td>\n",
       "      <td>11.30000</td>\n",
       "      <td>10.10000</td>\n",
       "      <td>1.60000</td>\n",
       "      <td>34.10000</td>\n",
       "      <td>42.00000</td>\n",
       "      <td>23.90000</td>\n",
       "      <td>0.00000</td>\n",
       "      <td>11.00000</td>\n",
       "      <td>10.50000</td>\n",
       "      <td>AND</td>\n",
       "      <td>2016</td>\n",
       "      <td>77295.00000</td>\n",
       "    </tr>\n",
       "    <tr>\n",
       "      <th>3</th>\n",
       "      <td>United Arab Emirates</td>\n",
       "      <td>3.80000</td>\n",
       "      <td>2.10000</td>\n",
       "      <td>1.80000</td>\n",
       "      <td>10.10000</td>\n",
       "      <td>7.70000</td>\n",
       "      <td>81.90000</td>\n",
       "      <td>0.30000</td>\n",
       "      <td>4.20000</td>\n",
       "      <td>5.50000</td>\n",
       "      <td>ARE</td>\n",
       "      <td>2016</td>\n",
       "      <td>9360975.00000</td>\n",
       "    </tr>\n",
       "    <tr>\n",
       "      <th>4</th>\n",
       "      <td>Argentina</td>\n",
       "      <td>9.80000</td>\n",
       "      <td>8.40000</td>\n",
       "      <td>1.30000</td>\n",
       "      <td>39.90000</td>\n",
       "      <td>40.20000</td>\n",
       "      <td>9.60000</td>\n",
       "      <td>10.30000</td>\n",
       "      <td>10.00000</td>\n",
       "      <td>10.30000</td>\n",
       "      <td>ARG</td>\n",
       "      <td>2016</td>\n",
       "      <td>43590368.00000</td>\n",
       "    </tr>\n",
       "    <tr>\n",
       "      <th>...</th>\n",
       "      <td>...</td>\n",
       "      <td>...</td>\n",
       "      <td>...</td>\n",
       "      <td>...</td>\n",
       "      <td>...</td>\n",
       "      <td>...</td>\n",
       "      <td>...</td>\n",
       "      <td>...</td>\n",
       "      <td>...</td>\n",
       "      <td>...</td>\n",
       "      <td>...</td>\n",
       "      <td>...</td>\n",
       "      <td>...</td>\n",
       "    </tr>\n",
       "    <tr>\n",
       "      <th>174</th>\n",
       "      <td>Samoa</td>\n",
       "      <td>2.50000</td>\n",
       "      <td>2.00000</td>\n",
       "      <td>0.70000</td>\n",
       "      <td>94.10000</td>\n",
       "      <td>5.90000</td>\n",
       "      <td>0.00000</td>\n",
       "      <td>0.00000</td>\n",
       "      <td>2.90000</td>\n",
       "      <td>3.30000</td>\n",
       "      <td>WSM</td>\n",
       "      <td>2016</td>\n",
       "      <td>194540.00000</td>\n",
       "    </tr>\n",
       "    <tr>\n",
       "      <th>175</th>\n",
       "      <td>Yemen</td>\n",
       "      <td>0.10000</td>\n",
       "      <td>0.00000</td>\n",
       "      <td>0.00000</td>\n",
       "      <td>89.50000</td>\n",
       "      <td>0.00000</td>\n",
       "      <td>10.50000</td>\n",
       "      <td>0.00000</td>\n",
       "      <td>0.10000</td>\n",
       "      <td>0.10000</td>\n",
       "      <td>YEM</td>\n",
       "      <td>2016</td>\n",
       "      <td>27168210.00000</td>\n",
       "    </tr>\n",
       "    <tr>\n",
       "      <th>176</th>\n",
       "      <td>South Africa</td>\n",
       "      <td>9.30000</td>\n",
       "      <td>7.10000</td>\n",
       "      <td>2.20000</td>\n",
       "      <td>56.00000</td>\n",
       "      <td>18.50000</td>\n",
       "      <td>17.80000</td>\n",
       "      <td>7.60000</td>\n",
       "      <td>9.20000</td>\n",
       "      <td>9.00000</td>\n",
       "      <td>ZAF</td>\n",
       "      <td>2016</td>\n",
       "      <td>56207649.00000</td>\n",
       "    </tr>\n",
       "    <tr>\n",
       "      <th>177</th>\n",
       "      <td>Zambia</td>\n",
       "      <td>4.80000</td>\n",
       "      <td>2.90000</td>\n",
       "      <td>2.00000</td>\n",
       "      <td>36.40000</td>\n",
       "      <td>2.70000</td>\n",
       "      <td>0.40000</td>\n",
       "      <td>60.40000</td>\n",
       "      <td>4.80000</td>\n",
       "      <td>4.70000</td>\n",
       "      <td>ZMB</td>\n",
       "      <td>2016</td>\n",
       "      <td>16363449.00000</td>\n",
       "    </tr>\n",
       "    <tr>\n",
       "      <th>178</th>\n",
       "      <td>Zimbabwe</td>\n",
       "      <td>4.80000</td>\n",
       "      <td>3.60000</td>\n",
       "      <td>1.30000</td>\n",
       "      <td>62.80000</td>\n",
       "      <td>1.30000</td>\n",
       "      <td>12.00000</td>\n",
       "      <td>23.90000</td>\n",
       "      <td>4.50000</td>\n",
       "      <td>4.20000</td>\n",
       "      <td>ZWE</td>\n",
       "      <td>2016</td>\n",
       "      <td>14030338.00000</td>\n",
       "    </tr>\n",
       "  </tbody>\n",
       "</table>\n",
       "<p>179 rows × 13 columns</p>\n",
       "</div>"
      ],
      "text/plain": [
       "                  country  total_consumption  recorded_consumption  \\\n",
       "0                  Angola            6.40000               5.00000   \n",
       "1                 Albania            7.50000               5.00000   \n",
       "2                 Andorra           11.30000              10.10000   \n",
       "3    United Arab Emirates            3.80000               2.10000   \n",
       "4               Argentina            9.80000               8.40000   \n",
       "..                    ...                ...                   ...   \n",
       "174                 Samoa            2.50000               2.00000   \n",
       "175                 Yemen            0.10000               0.00000   \n",
       "176          South Africa            9.30000               7.10000   \n",
       "177                Zambia            4.80000               2.90000   \n",
       "178              Zimbabwe            4.80000               3.60000   \n",
       "\n",
       "     unrecorded_consumption  beer_percentage  wine_percentage  \\\n",
       "0                   1.40000         70.30000         17.60000   \n",
       "1                   2.50000         34.30000         26.50000   \n",
       "2                   1.60000         34.10000         42.00000   \n",
       "3                   1.80000         10.10000          7.70000   \n",
       "4                   1.30000         39.90000         40.20000   \n",
       "..                      ...              ...              ...   \n",
       "174                 0.70000         94.10000          5.90000   \n",
       "175                 0.00000         89.50000          0.00000   \n",
       "176                 2.20000         56.00000         18.50000   \n",
       "177                 2.00000         36.40000          2.70000   \n",
       "178                 1.30000         62.80000          1.30000   \n",
       "\n",
       "     spirits_percentage  other_percentage  2020_projection  2025_projection  \\\n",
       "0              11.30000           0.80000          6.10000          6.60000   \n",
       "1              37.60000           1.70000          8.30000          9.20000   \n",
       "2              23.90000           0.00000         11.00000         10.50000   \n",
       "3              81.90000           0.30000          4.20000          5.50000   \n",
       "4               9.60000          10.30000         10.00000         10.30000   \n",
       "..                  ...               ...              ...              ...   \n",
       "174             0.00000           0.00000          2.90000          3.30000   \n",
       "175            10.50000           0.00000          0.10000          0.10000   \n",
       "176            17.80000           7.60000          9.20000          9.00000   \n",
       "177             0.40000          60.40000          4.80000          4.70000   \n",
       "178            12.00000          23.90000          4.50000          4.20000   \n",
       "\n",
       "    countryiso3code  date          value  \n",
       "0               AGO  2016 28842482.00000  \n",
       "1               ALB  2016  2876101.00000  \n",
       "2               AND  2016    77295.00000  \n",
       "3               ARE  2016  9360975.00000  \n",
       "4               ARG  2016 43590368.00000  \n",
       "..              ...   ...            ...  \n",
       "174             WSM  2016   194540.00000  \n",
       "175             YEM  2016 27168210.00000  \n",
       "176             ZAF  2016 56207649.00000  \n",
       "177             ZMB  2016 16363449.00000  \n",
       "178             ZWE  2016 14030338.00000  \n",
       "\n",
       "[179 rows x 13 columns]"
      ]
     },
     "execution_count": 12,
     "metadata": {},
     "output_type": "execute_result"
    }
   ],
   "source": [
    "ind"
   ]
  },
  {
   "cell_type": "code",
   "execution_count": 13,
   "id": "9938d212",
   "metadata": {
    "execution": {
     "iopub.execute_input": "2022-12-13T17:59:42.075210Z",
     "iopub.status.busy": "2022-12-13T17:59:42.074930Z",
     "iopub.status.idle": "2022-12-13T17:59:42.082256Z",
     "shell.execute_reply": "2022-12-13T17:59:42.081407Z"
    },
    "papermill": {
     "duration": 0.01411,
     "end_time": "2022-12-13T17:59:42.084253",
     "exception": false,
     "start_time": "2022-12-13T17:59:42.070143",
     "status": "completed"
    },
    "tags": []
   },
   "outputs": [],
   "source": [
    "#Column re-name value to population_2016\n",
    "ind.columns = ['country', 'total_consumption', 'recorded_consumption',\n",
    "       'unrecorded_consumption', 'beer_percentage', 'wine_percentage',\n",
    "       'spirits_percentage', 'other_percentage', '2020_projection',\n",
    "       '2025_projection', 'countryiso3code', 'date', 'population_2016']\n",
    "\n",
    "#Column filtering, taking out countryiso3code and date\n",
    "ind = ind[['country', 'total_consumption', 'recorded_consumption',\n",
    "       'unrecorded_consumption', 'beer_percentage', 'wine_percentage',\n",
    "       'spirits_percentage', 'other_percentage', '2020_projection',\n",
    "       '2025_projection', 'population_2016']]"
   ]
  },
  {
   "cell_type": "code",
   "execution_count": 14,
   "id": "ae287240",
   "metadata": {
    "execution": {
     "iopub.execute_input": "2022-12-13T17:59:42.094398Z",
     "iopub.status.busy": "2022-12-13T17:59:42.092988Z",
     "iopub.status.idle": "2022-12-13T17:59:42.121962Z",
     "shell.execute_reply": "2022-12-13T17:59:42.120997Z"
    },
    "papermill": {
     "duration": 0.035691,
     "end_time": "2022-12-13T17:59:42.123926",
     "exception": false,
     "start_time": "2022-12-13T17:59:42.088235",
     "status": "completed"
    },
    "tags": []
   },
   "outputs": [],
   "source": [
    "ind['beer_consumption_2016'] = (ind['total_consumption'] * (ind['beer_percentage']/100)) / ind['population_2016']\n",
    "ind['wine_consumption_2016'] = (ind['total_consumption'] * (ind['wine_percentage']/100)) / ind['population_2016']"
   ]
  },
  {
   "cell_type": "code",
   "execution_count": 15,
   "id": "c5725891",
   "metadata": {},
   "outputs": [
    {
     "data": {
      "text/html": [
       "<div>\n",
       "<style scoped>\n",
       "    .dataframe tbody tr th:only-of-type {\n",
       "        vertical-align: middle;\n",
       "    }\n",
       "\n",
       "    .dataframe tbody tr th {\n",
       "        vertical-align: top;\n",
       "    }\n",
       "\n",
       "    .dataframe thead th {\n",
       "        text-align: right;\n",
       "    }\n",
       "</style>\n",
       "<table border=\"1\" class=\"dataframe\">\n",
       "  <thead>\n",
       "    <tr style=\"text-align: right;\">\n",
       "      <th></th>\n",
       "      <th>country</th>\n",
       "      <th>total_consumption</th>\n",
       "      <th>recorded_consumption</th>\n",
       "      <th>unrecorded_consumption</th>\n",
       "      <th>beer_percentage</th>\n",
       "      <th>wine_percentage</th>\n",
       "      <th>spirits_percentage</th>\n",
       "      <th>other_percentage</th>\n",
       "      <th>2020_projection</th>\n",
       "      <th>2025_projection</th>\n",
       "      <th>population_2016</th>\n",
       "      <th>beer_consumption_2016</th>\n",
       "    </tr>\n",
       "  </thead>\n",
       "  <tbody>\n",
       "    <tr>\n",
       "      <th>120</th>\n",
       "      <td>Niue</td>\n",
       "      <td>7.00000</td>\n",
       "      <td>6.00000</td>\n",
       "      <td>1.00000</td>\n",
       "      <td>56.30000</td>\n",
       "      <td>13.10000</td>\n",
       "      <td>30.60000</td>\n",
       "      <td>0.00000</td>\n",
       "      <td>7.00000</td>\n",
       "      <td>7.00000</td>\n",
       "      <td>1614.00000</td>\n",
       "      <td>0.00244</td>\n",
       "    </tr>\n",
       "    <tr>\n",
       "      <th>35</th>\n",
       "      <td>Cook Islands</td>\n",
       "      <td>10.60000</td>\n",
       "      <td>10.00000</td>\n",
       "      <td>0.60000</td>\n",
       "      <td>31.70000</td>\n",
       "      <td>16.10000</td>\n",
       "      <td>52.20000</td>\n",
       "      <td>0.00000</td>\n",
       "      <td>16.20000</td>\n",
       "      <td>18.30000</td>\n",
       "      <td>17459.00000</td>\n",
       "      <td>0.00019</td>\n",
       "    </tr>\n",
       "    <tr>\n",
       "      <th>124</th>\n",
       "      <td>Nauru</td>\n",
       "      <td>6.00000</td>\n",
       "      <td>3.50000</td>\n",
       "      <td>2.50000</td>\n",
       "      <td>22.00000</td>\n",
       "      <td>3.70000</td>\n",
       "      <td>74.30000</td>\n",
       "      <td>0.00000</td>\n",
       "      <td>0.00000</td>\n",
       "      <td>6.30000</td>\n",
       "      <td>10474.00000</td>\n",
       "      <td>0.00013</td>\n",
       "    </tr>\n",
       "    <tr>\n",
       "      <th>151</th>\n",
       "      <td>Seychelles</td>\n",
       "      <td>13.80000</td>\n",
       "      <td>12.40000</td>\n",
       "      <td>1.40000</td>\n",
       "      <td>68.90000</td>\n",
       "      <td>22.40000</td>\n",
       "      <td>6.30000</td>\n",
       "      <td>2.50000</td>\n",
       "      <td>10.40000</td>\n",
       "      <td>10.60000</td>\n",
       "      <td>94677.00000</td>\n",
       "      <td>0.00010</td>\n",
       "    </tr>\n",
       "    <tr>\n",
       "      <th>90</th>\n",
       "      <td>Saint Kitts and Nevis</td>\n",
       "      <td>9.40000</td>\n",
       "      <td>8.90000</td>\n",
       "      <td>0.50000</td>\n",
       "      <td>47.80000</td>\n",
       "      <td>6.50000</td>\n",
       "      <td>43.40000</td>\n",
       "      <td>2.30000</td>\n",
       "      <td>9.70000</td>\n",
       "      <td>10.30000</td>\n",
       "      <td>51629.00000</td>\n",
       "      <td>0.00009</td>\n",
       "    </tr>\n",
       "    <tr>\n",
       "      <th>2</th>\n",
       "      <td>Andorra</td>\n",
       "      <td>11.30000</td>\n",
       "      <td>10.10000</td>\n",
       "      <td>1.60000</td>\n",
       "      <td>34.10000</td>\n",
       "      <td>42.00000</td>\n",
       "      <td>23.90000</td>\n",
       "      <td>0.00000</td>\n",
       "      <td>11.00000</td>\n",
       "      <td>10.50000</td>\n",
       "      <td>77295.00000</td>\n",
       "      <td>0.00005</td>\n",
       "    </tr>\n",
       "    <tr>\n",
       "      <th>68</th>\n",
       "      <td>Grenada</td>\n",
       "      <td>9.30000</td>\n",
       "      <td>8.80000</td>\n",
       "      <td>1.40000</td>\n",
       "      <td>40.90000</td>\n",
       "      <td>7.00000</td>\n",
       "      <td>48.30000</td>\n",
       "      <td>3.80000</td>\n",
       "      <td>9.40000</td>\n",
       "      <td>9.60000</td>\n",
       "      <td>110263.00000</td>\n",
       "      <td>0.00003</td>\n",
       "    </tr>\n",
       "    <tr>\n",
       "      <th>170</th>\n",
       "      <td>Saint Vincent and the Grenadines</td>\n",
       "      <td>8.20000</td>\n",
       "      <td>7.40000</td>\n",
       "      <td>1.40000</td>\n",
       "      <td>36.60000</td>\n",
       "      <td>3.60000</td>\n",
       "      <td>57.20000</td>\n",
       "      <td>2.60000</td>\n",
       "      <td>8.40000</td>\n",
       "      <td>8.70000</td>\n",
       "      <td>109467.00000</td>\n",
       "      <td>0.00003</td>\n",
       "    </tr>\n",
       "    <tr>\n",
       "      <th>6</th>\n",
       "      <td>Antigua and Barbuda</td>\n",
       "      <td>7.00000</td>\n",
       "      <td>8.40000</td>\n",
       "      <td>1.20000</td>\n",
       "      <td>33.00000</td>\n",
       "      <td>18.30000</td>\n",
       "      <td>45.40000</td>\n",
       "      <td>3.20000</td>\n",
       "      <td>7.60000</td>\n",
       "      <td>8.40000</td>\n",
       "      <td>94520.00000</td>\n",
       "      <td>0.00002</td>\n",
       "    </tr>\n",
       "    <tr>\n",
       "      <th>95</th>\n",
       "      <td>Saint Lucia</td>\n",
       "      <td>9.90000</td>\n",
       "      <td>9.70000</td>\n",
       "      <td>1.50000</td>\n",
       "      <td>35.40000</td>\n",
       "      <td>13.20000</td>\n",
       "      <td>50.00000</td>\n",
       "      <td>1.40000</td>\n",
       "      <td>9.60000</td>\n",
       "      <td>9.10000</td>\n",
       "      <td>180028.00000</td>\n",
       "      <td>0.00002</td>\n",
       "    </tr>\n",
       "  </tbody>\n",
       "</table>\n",
       "</div>"
      ],
      "text/plain": [
       "                              country  total_consumption  \\\n",
       "120                              Niue            7.00000   \n",
       "35                       Cook Islands           10.60000   \n",
       "124                             Nauru            6.00000   \n",
       "151                        Seychelles           13.80000   \n",
       "90              Saint Kitts and Nevis            9.40000   \n",
       "2                             Andorra           11.30000   \n",
       "68                            Grenada            9.30000   \n",
       "170  Saint Vincent and the Grenadines            8.20000   \n",
       "6                 Antigua and Barbuda            7.00000   \n",
       "95                        Saint Lucia            9.90000   \n",
       "\n",
       "     recorded_consumption  unrecorded_consumption  beer_percentage  \\\n",
       "120               6.00000                 1.00000         56.30000   \n",
       "35               10.00000                 0.60000         31.70000   \n",
       "124               3.50000                 2.50000         22.00000   \n",
       "151              12.40000                 1.40000         68.90000   \n",
       "90                8.90000                 0.50000         47.80000   \n",
       "2                10.10000                 1.60000         34.10000   \n",
       "68                8.80000                 1.40000         40.90000   \n",
       "170               7.40000                 1.40000         36.60000   \n",
       "6                 8.40000                 1.20000         33.00000   \n",
       "95                9.70000                 1.50000         35.40000   \n",
       "\n",
       "     wine_percentage  spirits_percentage  other_percentage  2020_projection  \\\n",
       "120         13.10000            30.60000           0.00000          7.00000   \n",
       "35          16.10000            52.20000           0.00000         16.20000   \n",
       "124          3.70000            74.30000           0.00000          0.00000   \n",
       "151         22.40000             6.30000           2.50000         10.40000   \n",
       "90           6.50000            43.40000           2.30000          9.70000   \n",
       "2           42.00000            23.90000           0.00000         11.00000   \n",
       "68           7.00000            48.30000           3.80000          9.40000   \n",
       "170          3.60000            57.20000           2.60000          8.40000   \n",
       "6           18.30000            45.40000           3.20000          7.60000   \n",
       "95          13.20000            50.00000           1.40000          9.60000   \n",
       "\n",
       "     2025_projection  population_2016  beer_consumption_2016  \n",
       "120          7.00000       1614.00000                0.00244  \n",
       "35          18.30000      17459.00000                0.00019  \n",
       "124          6.30000      10474.00000                0.00013  \n",
       "151         10.60000      94677.00000                0.00010  \n",
       "90          10.30000      51629.00000                0.00009  \n",
       "2           10.50000      77295.00000                0.00005  \n",
       "68           9.60000     110263.00000                0.00003  \n",
       "170          8.70000     109467.00000                0.00003  \n",
       "6            8.40000      94520.00000                0.00002  \n",
       "95           9.10000     180028.00000                0.00002  "
      ]
     },
     "execution_count": 15,
     "metadata": {},
     "output_type": "execute_result"
    }
   ],
   "source": [
    "\n",
    "top_beer_country = ind.sort_values('beer_consumption_2016', ascending=False)\n",
    "top_beer_country.drop(top_beer_country.columns[-1], axis=1, inplace=True)\n",
    "top_beer_country.head(10)"
   ]
  },
  {
   "cell_type": "code",
   "execution_count": 16,
   "id": "9fb2c34c",
   "metadata": {
    "papermill": {
     "duration": 0.004604,
     "end_time": "2022-12-13T17:59:42.133132",
     "exception": false,
     "start_time": "2022-12-13T17:59:42.128528",
     "status": "completed"
    },
    "tags": []
   },
   "outputs": [
    {
     "data": {
      "text/html": [
       "<div>\n",
       "<style scoped>\n",
       "    .dataframe tbody tr th:only-of-type {\n",
       "        vertical-align: middle;\n",
       "    }\n",
       "\n",
       "    .dataframe tbody tr th {\n",
       "        vertical-align: top;\n",
       "    }\n",
       "\n",
       "    .dataframe thead th {\n",
       "        text-align: right;\n",
       "    }\n",
       "</style>\n",
       "<table border=\"1\" class=\"dataframe\">\n",
       "  <thead>\n",
       "    <tr style=\"text-align: right;\">\n",
       "      <th></th>\n",
       "      <th>country</th>\n",
       "      <th>total_consumption</th>\n",
       "      <th>recorded_consumption</th>\n",
       "      <th>unrecorded_consumption</th>\n",
       "      <th>beer_percentage</th>\n",
       "      <th>wine_percentage</th>\n",
       "      <th>spirits_percentage</th>\n",
       "      <th>other_percentage</th>\n",
       "      <th>2020_projection</th>\n",
       "      <th>2025_projection</th>\n",
       "      <th>population_2016</th>\n",
       "      <th>wine_consumption_2016</th>\n",
       "    </tr>\n",
       "  </thead>\n",
       "  <tbody>\n",
       "    <tr>\n",
       "      <th>120</th>\n",
       "      <td>Niue</td>\n",
       "      <td>7.00000</td>\n",
       "      <td>6.00000</td>\n",
       "      <td>1.00000</td>\n",
       "      <td>56.30000</td>\n",
       "      <td>13.10000</td>\n",
       "      <td>30.60000</td>\n",
       "      <td>0.00000</td>\n",
       "      <td>7.00000</td>\n",
       "      <td>7.00000</td>\n",
       "      <td>1614.00000</td>\n",
       "      <td>0.00057</td>\n",
       "    </tr>\n",
       "    <tr>\n",
       "      <th>163</th>\n",
       "      <td>Tuvalu</td>\n",
       "      <td>1.70000</td>\n",
       "      <td>1.20000</td>\n",
       "      <td>0.50000</td>\n",
       "      <td>0.60000</td>\n",
       "      <td>84.70000</td>\n",
       "      <td>14.10000</td>\n",
       "      <td>0.00000</td>\n",
       "      <td>1.70000</td>\n",
       "      <td>1.70000</td>\n",
       "      <td>11232.00000</td>\n",
       "      <td>0.00013</td>\n",
       "    </tr>\n",
       "    <tr>\n",
       "      <th>35</th>\n",
       "      <td>Cook Islands</td>\n",
       "      <td>10.60000</td>\n",
       "      <td>10.00000</td>\n",
       "      <td>0.60000</td>\n",
       "      <td>31.70000</td>\n",
       "      <td>16.10000</td>\n",
       "      <td>52.20000</td>\n",
       "      <td>0.00000</td>\n",
       "      <td>16.20000</td>\n",
       "      <td>18.30000</td>\n",
       "      <td>17459.00000</td>\n",
       "      <td>0.00010</td>\n",
       "    </tr>\n",
       "    <tr>\n",
       "      <th>2</th>\n",
       "      <td>Andorra</td>\n",
       "      <td>11.30000</td>\n",
       "      <td>10.10000</td>\n",
       "      <td>1.60000</td>\n",
       "      <td>34.10000</td>\n",
       "      <td>42.00000</td>\n",
       "      <td>23.90000</td>\n",
       "      <td>0.00000</td>\n",
       "      <td>11.00000</td>\n",
       "      <td>10.50000</td>\n",
       "      <td>77295.00000</td>\n",
       "      <td>0.00006</td>\n",
       "    </tr>\n",
       "    <tr>\n",
       "      <th>151</th>\n",
       "      <td>Seychelles</td>\n",
       "      <td>13.80000</td>\n",
       "      <td>12.40000</td>\n",
       "      <td>1.40000</td>\n",
       "      <td>68.90000</td>\n",
       "      <td>22.40000</td>\n",
       "      <td>6.30000</td>\n",
       "      <td>2.50000</td>\n",
       "      <td>10.40000</td>\n",
       "      <td>10.60000</td>\n",
       "      <td>94677.00000</td>\n",
       "      <td>0.00003</td>\n",
       "    </tr>\n",
       "    <tr>\n",
       "      <th>145</th>\n",
       "      <td>Sao Tome and Principe</td>\n",
       "      <td>6.80000</td>\n",
       "      <td>4.90000</td>\n",
       "      <td>2.00000</td>\n",
       "      <td>19.80000</td>\n",
       "      <td>80.20000</td>\n",
       "      <td>0.00000</td>\n",
       "      <td>0.00000</td>\n",
       "      <td>7.10000</td>\n",
       "      <td>7.40000</td>\n",
       "      <td>203221.00000</td>\n",
       "      <td>0.00003</td>\n",
       "    </tr>\n",
       "    <tr>\n",
       "      <th>124</th>\n",
       "      <td>Nauru</td>\n",
       "      <td>6.00000</td>\n",
       "      <td>3.50000</td>\n",
       "      <td>2.50000</td>\n",
       "      <td>22.00000</td>\n",
       "      <td>3.70000</td>\n",
       "      <td>74.30000</td>\n",
       "      <td>0.00000</td>\n",
       "      <td>0.00000</td>\n",
       "      <td>6.30000</td>\n",
       "      <td>10474.00000</td>\n",
       "      <td>0.00002</td>\n",
       "    </tr>\n",
       "    <tr>\n",
       "      <th>6</th>\n",
       "      <td>Antigua and Barbuda</td>\n",
       "      <td>7.00000</td>\n",
       "      <td>8.40000</td>\n",
       "      <td>1.20000</td>\n",
       "      <td>33.00000</td>\n",
       "      <td>18.30000</td>\n",
       "      <td>45.40000</td>\n",
       "      <td>3.20000</td>\n",
       "      <td>7.60000</td>\n",
       "      <td>8.40000</td>\n",
       "      <td>94520.00000</td>\n",
       "      <td>0.00001</td>\n",
       "    </tr>\n",
       "    <tr>\n",
       "      <th>99</th>\n",
       "      <td>Luxembourg</td>\n",
       "      <td>12.30000</td>\n",
       "      <td>10.60000</td>\n",
       "      <td>2.10000</td>\n",
       "      <td>26.10000</td>\n",
       "      <td>61.50000</td>\n",
       "      <td>7.70000</td>\n",
       "      <td>4.70000</td>\n",
       "      <td>11.80000</td>\n",
       "      <td>11.00000</td>\n",
       "      <td>582014.00000</td>\n",
       "      <td>0.00001</td>\n",
       "    </tr>\n",
       "    <tr>\n",
       "      <th>90</th>\n",
       "      <td>Saint Kitts and Nevis</td>\n",
       "      <td>9.40000</td>\n",
       "      <td>8.90000</td>\n",
       "      <td>0.50000</td>\n",
       "      <td>47.80000</td>\n",
       "      <td>6.50000</td>\n",
       "      <td>43.40000</td>\n",
       "      <td>2.30000</td>\n",
       "      <td>9.70000</td>\n",
       "      <td>10.30000</td>\n",
       "      <td>51629.00000</td>\n",
       "      <td>0.00001</td>\n",
       "    </tr>\n",
       "  </tbody>\n",
       "</table>\n",
       "</div>"
      ],
      "text/plain": [
       "                   country  total_consumption  recorded_consumption  \\\n",
       "120                   Niue            7.00000               6.00000   \n",
       "163                 Tuvalu            1.70000               1.20000   \n",
       "35            Cook Islands           10.60000              10.00000   \n",
       "2                  Andorra           11.30000              10.10000   \n",
       "151             Seychelles           13.80000              12.40000   \n",
       "145  Sao Tome and Principe            6.80000               4.90000   \n",
       "124                  Nauru            6.00000               3.50000   \n",
       "6      Antigua and Barbuda            7.00000               8.40000   \n",
       "99              Luxembourg           12.30000              10.60000   \n",
       "90   Saint Kitts and Nevis            9.40000               8.90000   \n",
       "\n",
       "     unrecorded_consumption  beer_percentage  wine_percentage  \\\n",
       "120                 1.00000         56.30000         13.10000   \n",
       "163                 0.50000          0.60000         84.70000   \n",
       "35                  0.60000         31.70000         16.10000   \n",
       "2                   1.60000         34.10000         42.00000   \n",
       "151                 1.40000         68.90000         22.40000   \n",
       "145                 2.00000         19.80000         80.20000   \n",
       "124                 2.50000         22.00000          3.70000   \n",
       "6                   1.20000         33.00000         18.30000   \n",
       "99                  2.10000         26.10000         61.50000   \n",
       "90                  0.50000         47.80000          6.50000   \n",
       "\n",
       "     spirits_percentage  other_percentage  2020_projection  2025_projection  \\\n",
       "120            30.60000           0.00000          7.00000          7.00000   \n",
       "163            14.10000           0.00000          1.70000          1.70000   \n",
       "35             52.20000           0.00000         16.20000         18.30000   \n",
       "2              23.90000           0.00000         11.00000         10.50000   \n",
       "151             6.30000           2.50000         10.40000         10.60000   \n",
       "145             0.00000           0.00000          7.10000          7.40000   \n",
       "124            74.30000           0.00000          0.00000          6.30000   \n",
       "6              45.40000           3.20000          7.60000          8.40000   \n",
       "99              7.70000           4.70000         11.80000         11.00000   \n",
       "90             43.40000           2.30000          9.70000         10.30000   \n",
       "\n",
       "     population_2016  wine_consumption_2016  \n",
       "120       1614.00000                0.00057  \n",
       "163      11232.00000                0.00013  \n",
       "35       17459.00000                0.00010  \n",
       "2        77295.00000                0.00006  \n",
       "151      94677.00000                0.00003  \n",
       "145     203221.00000                0.00003  \n",
       "124      10474.00000                0.00002  \n",
       "6        94520.00000                0.00001  \n",
       "99      582014.00000                0.00001  \n",
       "90       51629.00000                0.00001  "
      ]
     },
     "execution_count": 16,
     "metadata": {},
     "output_type": "execute_result"
    }
   ],
   "source": [
    "top_wine_country = ind.sort_values('wine_consumption_2016', ascending=False)\n",
    "top_wine_country.drop(top_wine_country.columns[-2], axis=1, inplace=True)\n",
    "top_wine_country.head(10)"
   ]
  },
  {
   "cell_type": "markdown",
   "id": "d7a02139",
   "metadata": {},
   "source": [
    "## EDA"
   ]
  },
  {
   "cell_type": "code",
   "execution_count": 38,
   "id": "6e0032b0",
   "metadata": {},
   "outputs": [
    {
     "data": {
      "text/plain": [
       "Text(0, 0.5, '2016 consum')"
      ]
     },
     "execution_count": 38,
     "metadata": {},
     "output_type": "execute_result"
    },
    {
     "data": {
      "image/png": "[encoded data removed]",
      "text/plain": [
       "<Figure size 640x480 with 1 Axes>"
      ]
     },
     "metadata": {},
     "output_type": "display_data"
    }
   ],
   "source": [
    "\n",
    "#Filtering by previsions\n",
    "consum = ind[[\"country\", \"total_consumption\",\"2020_projection\", \"2025_projection\"]]\n",
    "consum_2016 = consum.sort_values('total_consumption', ascending=False).head(5)\n",
    "\n",
    "consum_2016_consum = sns.barplot(x=consum_2016.country, y=consum_2016.total_consumption)\n",
    "consum_2016_consum.set_title('Top 5 most alcholic countries(2016)')\n",
    "consum_2016_consum.set_ylabel('2016 consum')"
   ]
  },
  {
   "cell_type": "code",
   "execution_count": 35,
   "id": "a99efba2",
   "metadata": {},
   "outputs": [
    {
     "data": {
      "text/plain": [
       "Text(0.5, 0, 'Countries')"
      ]
     },
     "execution_count": 35,
     "metadata": {},
     "output_type": "execute_result"
    },
    {
     "data": {
      "image/png": "[encoded data removed]",
      "text/plain": [
       "<Figure size 2500x1500 with 1 Axes>"
      ]
     },
     "metadata": {},
     "output_type": "display_data"
    }
   ],
   "source": [
    "fig, ax = plt.subplots(figsize=(25, 15))\n",
    "beer_graph = sns.barplot(x=top_beer_country['country'].head(10), y=top_beer_country['beer_consumption_2016'].head(10), ax=ax, capsize=1)\n",
    "beer_graph.set_title('Top Beer Consumer Countries per capita 2016')\n",
    "beer_graph.set_ylabel('Consumption')\n",
    "beer_graph.set_xlabel('Countries')"
   ]
  },
  {
   "cell_type": "code",
   "execution_count": 34,
   "id": "99a184ec",
   "metadata": {},
   "outputs": [
    {
     "data": {
      "text/plain": [
       "Text(0.5, 0, 'Countries')"
      ]
     },
     "execution_count": 34,
     "metadata": {},
     "output_type": "execute_result"
    },
    {
     "data": {
      "image/png": "[encoded data removed]",
      "text/plain": [
       "<Figure size 2500x1500 with 1 Axes>"
      ]
     },
     "metadata": {},
     "output_type": "display_data"
    }
   ],
   "source": [
    "fig, ax = plt.subplots(figsize=(25, 15))\n",
    "wine_graph = sns.barplot(x=top_wine_country['country'].head(10), y=top_wine_country['wine_consumption_2016'].head(10), ax=ax, capsize=1)\n",
    "wine_graph.set_title('Top Wine Consumer Countries per capita 2016')\n",
    "wine_graph.set_ylabel('Consumption')\n",
    "wine_graph.set_xlabel('Countries')"
   ]
  },
  {
   "cell_type": "code",
   "execution_count": 37,
   "id": "2ba3e1b1",
   "metadata": {},
   "outputs": [
    {
     "data": {
      "text/plain": [
       "Text(0, 0.5, '2020 consum')"
      ]
     },
     "execution_count": 37,
     "metadata": {},
     "output_type": "execute_result"
    },
    {
     "data": {
      "image/png": "[encoded data removed]",
      "text/plain": [
       "<Figure size 640x480 with 1 Axes>"
      ]
     },
     "metadata": {},
     "output_type": "display_data"
    }
   ],
   "source": [
    "consum_2020 = consum.sort_values('2020_projection', ascending=False).head(5)\n",
    "consum_2020_consum = sns.barplot(x=consum_2020.country, y=consum_2020['2020_projection'])\n",
    "consum_2020_consum.set_title('Top 5 most alcholic countries (2020)')\n",
    "consum_2020_consum.set_ylabel('2020 consum')"
   ]
  },
  {
   "cell_type": "code",
   "execution_count": 22,
   "id": "ed38cc5a",
   "metadata": {},
   "outputs": [
    {
     "data": {
      "text/plain": [
       "Text(0, 0.5, '2025 consum')"
      ]
     },
     "execution_count": 22,
     "metadata": {},
     "output_type": "execute_result"
    },
    {
     "data": {
      "image/png": "[encoded data removed]",
      "text/plain": [
       "<Figure size 640x480 with 1 Axes>"
      ]
     },
     "metadata": {},
     "output_type": "display_data"
    }
   ],
   "source": [
    "consum_2025 = consum.sort_values('2025_projection', ascending=False).head(5)\n",
    "consum_2025_consum = sns.barplot(x=consum_2025.country, y=consum_2025['2025_projection'])\n",
    "consum_2025_consum.set_title('Top 5 most alcholic countries (2025)')\n",
    "consum_2025_consum.set_ylabel('2025 consum')"
   ]
  },
  {
   "cell_type": "markdown",
   "id": "18f1a3e7",
   "metadata": {},
   "source": [
    "Cook Island has the biggest alcohol consumption previsions. This is what the local news said:"
   ]
  },
  {
   "cell_type": "markdown",
   "id": "5120984f",
   "metadata": {},
   "source": [
    "https://www.cookislandsnews.com/internal/national/health/not-a-proud-record-cook-islands-biggest-drinkers-in-the-world/"
   ]
  },
  {
   "cell_type": "markdown",
   "id": "60da91e2",
   "metadata": {},
   "source": [
    "## STATS"
   ]
  },
  {
   "cell_type": "markdown",
   "id": "4e4f9e31",
   "metadata": {},
   "source": [
    "Asumming the percentaje of wine and beer consumption remains the same to 2025"
   ]
  },
  {
   "cell_type": "code",
   "execution_count": 23,
   "id": "cd662201",
   "metadata": {},
   "outputs": [],
   "source": [
    "wine_previsions = ind[['wine_percentage', ]]"
   ]
  },
  {
   "cell_type": "code",
   "execution_count": 24,
   "id": "ebf4df04",
   "metadata": {},
   "outputs": [
    {
     "data": {
      "text/html": [
       "<div>\n",
       "<style scoped>\n",
       "    .dataframe tbody tr th:only-of-type {\n",
       "        vertical-align: middle;\n",
       "    }\n",
       "\n",
       "    .dataframe tbody tr th {\n",
       "        vertical-align: top;\n",
       "    }\n",
       "\n",
       "    .dataframe thead th {\n",
       "        text-align: right;\n",
       "    }\n",
       "</style>\n",
       "<table border=\"1\" class=\"dataframe\">\n",
       "  <thead>\n",
       "    <tr style=\"text-align: right;\">\n",
       "      <th></th>\n",
       "      <th>country</th>\n",
       "      <th>total_consumption</th>\n",
       "      <th>recorded_consumption</th>\n",
       "      <th>unrecorded_consumption</th>\n",
       "      <th>beer_percentage</th>\n",
       "      <th>wine_percentage</th>\n",
       "      <th>spirits_percentage</th>\n",
       "      <th>other_percentage</th>\n",
       "      <th>2020_projection</th>\n",
       "      <th>2025_projection</th>\n",
       "      <th>population_2016</th>\n",
       "      <th>beer_consumption_2016</th>\n",
       "      <th>wine_consumption_2016</th>\n",
       "    </tr>\n",
       "  </thead>\n",
       "  <tbody>\n",
       "    <tr>\n",
       "      <th>0</th>\n",
       "      <td>Angola</td>\n",
       "      <td>6.40000</td>\n",
       "      <td>5.00000</td>\n",
       "      <td>1.40000</td>\n",
       "      <td>70.30000</td>\n",
       "      <td>17.60000</td>\n",
       "      <td>11.30000</td>\n",
       "      <td>0.80000</td>\n",
       "      <td>6.10000</td>\n",
       "      <td>6.60000</td>\n",
       "      <td>28842482.00000</td>\n",
       "      <td>0.00000</td>\n",
       "      <td>0.00000</td>\n",
       "    </tr>\n",
       "    <tr>\n",
       "      <th>1</th>\n",
       "      <td>Albania</td>\n",
       "      <td>7.50000</td>\n",
       "      <td>5.00000</td>\n",
       "      <td>2.50000</td>\n",
       "      <td>34.30000</td>\n",
       "      <td>26.50000</td>\n",
       "      <td>37.60000</td>\n",
       "      <td>1.70000</td>\n",
       "      <td>8.30000</td>\n",
       "      <td>9.20000</td>\n",
       "      <td>2876101.00000</td>\n",
       "      <td>0.00000</td>\n",
       "      <td>0.00000</td>\n",
       "    </tr>\n",
       "    <tr>\n",
       "      <th>2</th>\n",
       "      <td>Andorra</td>\n",
       "      <td>11.30000</td>\n",
       "      <td>10.10000</td>\n",
       "      <td>1.60000</td>\n",
       "      <td>34.10000</td>\n",
       "      <td>42.00000</td>\n",
       "      <td>23.90000</td>\n",
       "      <td>0.00000</td>\n",
       "      <td>11.00000</td>\n",
       "      <td>10.50000</td>\n",
       "      <td>77295.00000</td>\n",
       "      <td>0.00005</td>\n",
       "      <td>0.00006</td>\n",
       "    </tr>\n",
       "    <tr>\n",
       "      <th>3</th>\n",
       "      <td>United Arab Emirates</td>\n",
       "      <td>3.80000</td>\n",
       "      <td>2.10000</td>\n",
       "      <td>1.80000</td>\n",
       "      <td>10.10000</td>\n",
       "      <td>7.70000</td>\n",
       "      <td>81.90000</td>\n",
       "      <td>0.30000</td>\n",
       "      <td>4.20000</td>\n",
       "      <td>5.50000</td>\n",
       "      <td>9360975.00000</td>\n",
       "      <td>0.00000</td>\n",
       "      <td>0.00000</td>\n",
       "    </tr>\n",
       "    <tr>\n",
       "      <th>4</th>\n",
       "      <td>Argentina</td>\n",
       "      <td>9.80000</td>\n",
       "      <td>8.40000</td>\n",
       "      <td>1.30000</td>\n",
       "      <td>39.90000</td>\n",
       "      <td>40.20000</td>\n",
       "      <td>9.60000</td>\n",
       "      <td>10.30000</td>\n",
       "      <td>10.00000</td>\n",
       "      <td>10.30000</td>\n",
       "      <td>43590368.00000</td>\n",
       "      <td>0.00000</td>\n",
       "      <td>0.00000</td>\n",
       "    </tr>\n",
       "    <tr>\n",
       "      <th>...</th>\n",
       "      <td>...</td>\n",
       "      <td>...</td>\n",
       "      <td>...</td>\n",
       "      <td>...</td>\n",
       "      <td>...</td>\n",
       "      <td>...</td>\n",
       "      <td>...</td>\n",
       "      <td>...</td>\n",
       "      <td>...</td>\n",
       "      <td>...</td>\n",
       "      <td>...</td>\n",
       "      <td>...</td>\n",
       "      <td>...</td>\n",
       "    </tr>\n",
       "    <tr>\n",
       "      <th>174</th>\n",
       "      <td>Samoa</td>\n",
       "      <td>2.50000</td>\n",
       "      <td>2.00000</td>\n",
       "      <td>0.70000</td>\n",
       "      <td>94.10000</td>\n",
       "      <td>5.90000</td>\n",
       "      <td>0.00000</td>\n",
       "      <td>0.00000</td>\n",
       "      <td>2.90000</td>\n",
       "      <td>3.30000</td>\n",
       "      <td>194540.00000</td>\n",
       "      <td>0.00001</td>\n",
       "      <td>0.00000</td>\n",
       "    </tr>\n",
       "    <tr>\n",
       "      <th>175</th>\n",
       "      <td>Yemen</td>\n",
       "      <td>0.10000</td>\n",
       "      <td>0.00000</td>\n",
       "      <td>0.00000</td>\n",
       "      <td>89.50000</td>\n",
       "      <td>0.00000</td>\n",
       "      <td>10.50000</td>\n",
       "      <td>0.00000</td>\n",
       "      <td>0.10000</td>\n",
       "      <td>0.10000</td>\n",
       "      <td>27168210.00000</td>\n",
       "      <td>0.00000</td>\n",
       "      <td>0.00000</td>\n",
       "    </tr>\n",
       "    <tr>\n",
       "      <th>176</th>\n",
       "      <td>South Africa</td>\n",
       "      <td>9.30000</td>\n",
       "      <td>7.10000</td>\n",
       "      <td>2.20000</td>\n",
       "      <td>56.00000</td>\n",
       "      <td>18.50000</td>\n",
       "      <td>17.80000</td>\n",
       "      <td>7.60000</td>\n",
       "      <td>9.20000</td>\n",
       "      <td>9.00000</td>\n",
       "      <td>56207649.00000</td>\n",
       "      <td>0.00000</td>\n",
       "      <td>0.00000</td>\n",
       "    </tr>\n",
       "    <tr>\n",
       "      <th>177</th>\n",
       "      <td>Zambia</td>\n",
       "      <td>4.80000</td>\n",
       "      <td>2.90000</td>\n",
       "      <td>2.00000</td>\n",
       "      <td>36.40000</td>\n",
       "      <td>2.70000</td>\n",
       "      <td>0.40000</td>\n",
       "      <td>60.40000</td>\n",
       "      <td>4.80000</td>\n",
       "      <td>4.70000</td>\n",
       "      <td>16363449.00000</td>\n",
       "      <td>0.00000</td>\n",
       "      <td>0.00000</td>\n",
       "    </tr>\n",
       "    <tr>\n",
       "      <th>178</th>\n",
       "      <td>Zimbabwe</td>\n",
       "      <td>4.80000</td>\n",
       "      <td>3.60000</td>\n",
       "      <td>1.30000</td>\n",
       "      <td>62.80000</td>\n",
       "      <td>1.30000</td>\n",
       "      <td>12.00000</td>\n",
       "      <td>23.90000</td>\n",
       "      <td>4.50000</td>\n",
       "      <td>4.20000</td>\n",
       "      <td>14030338.00000</td>\n",
       "      <td>0.00000</td>\n",
       "      <td>0.00000</td>\n",
       "    </tr>\n",
       "  </tbody>\n",
       "</table>\n",
       "<p>179 rows × 13 columns</p>\n",
       "</div>"
      ],
      "text/plain": [
       "                  country  total_consumption  recorded_consumption  \\\n",
       "0                  Angola            6.40000               5.00000   \n",
       "1                 Albania            7.50000               5.00000   \n",
       "2                 Andorra           11.30000              10.10000   \n",
       "3    United Arab Emirates            3.80000               2.10000   \n",
       "4               Argentina            9.80000               8.40000   \n",
       "..                    ...                ...                   ...   \n",
       "174                 Samoa            2.50000               2.00000   \n",
       "175                 Yemen            0.10000               0.00000   \n",
       "176          South Africa            9.30000               7.10000   \n",
       "177                Zambia            4.80000               2.90000   \n",
       "178              Zimbabwe            4.80000               3.60000   \n",
       "\n",
       "     unrecorded_consumption  beer_percentage  wine_percentage  \\\n",
       "0                   1.40000         70.30000         17.60000   \n",
       "1                   2.50000         34.30000         26.50000   \n",
       "2                   1.60000         34.10000         42.00000   \n",
       "3                   1.80000         10.10000          7.70000   \n",
       "4                   1.30000         39.90000         40.20000   \n",
       "..                      ...              ...              ...   \n",
       "174                 0.70000         94.10000          5.90000   \n",
       "175                 0.00000         89.50000          0.00000   \n",
       "176                 2.20000         56.00000         18.50000   \n",
       "177                 2.00000         36.40000          2.70000   \n",
       "178                 1.30000         62.80000          1.30000   \n",
       "\n",
       "     spirits_percentage  other_percentage  2020_projection  2025_projection  \\\n",
       "0              11.30000           0.80000          6.10000          6.60000   \n",
       "1              37.60000           1.70000          8.30000          9.20000   \n",
       "2              23.90000           0.00000         11.00000         10.50000   \n",
       "3              81.90000           0.30000          4.20000          5.50000   \n",
       "4               9.60000          10.30000         10.00000         10.30000   \n",
       "..                  ...               ...              ...              ...   \n",
       "174             0.00000           0.00000          2.90000          3.30000   \n",
       "175            10.50000           0.00000          0.10000          0.10000   \n",
       "176            17.80000           7.60000          9.20000          9.00000   \n",
       "177             0.40000          60.40000          4.80000          4.70000   \n",
       "178            12.00000          23.90000          4.50000          4.20000   \n",
       "\n",
       "     population_2016  beer_consumption_2016  wine_consumption_2016  \n",
       "0     28842482.00000                0.00000                0.00000  \n",
       "1      2876101.00000                0.00000                0.00000  \n",
       "2        77295.00000                0.00005                0.00006  \n",
       "3      9360975.00000                0.00000                0.00000  \n",
       "4     43590368.00000                0.00000                0.00000  \n",
       "..               ...                    ...                    ...  \n",
       "174     194540.00000                0.00001                0.00000  \n",
       "175   27168210.00000                0.00000                0.00000  \n",
       "176   56207649.00000                0.00000                0.00000  \n",
       "177   16363449.00000                0.00000                0.00000  \n",
       "178   14030338.00000                0.00000                0.00000  \n",
       "\n",
       "[179 rows x 13 columns]"
      ]
     },
     "execution_count": 24,
     "metadata": {},
     "output_type": "execute_result"
    }
   ],
   "source": [
    "ind"
   ]
  },
  {
   "cell_type": "code",
   "execution_count": null,
   "id": "6d7b9834",
   "metadata": {},
   "outputs": [],
   "source": []
  }
 ],
 "metadata": {
  "kernelspec": {
   "display_name": "Python 3 (ipykernel)",
   "language": "python",
   "name": "python3"
  },
  "language_info": {
   "codemirror_mode": {
    "name": "ipython",
    "version": 3
   },
   "file_extension": ".py",
   "mimetype": "text/x-python",
   "name": "python",
   "nbconvert_exporter": "python",
   "pygments_lexer": "ipython3",
   "version": "3.9.13"
  },
  "papermill": {
   "default_parameters": {},
   "duration": 27.948364,
   "end_time": "2022-12-13T17:59:42.758008",
   "environment_variables": {},
   "exception": null,
   "input_path": "__notebook__.ipynb",
   "output_path": "__notebook__.ipynb",
   "parameters": {},
   "start_time": "2022-12-13T17:59:14.809644",
   "version": "2.3.4"
  }
 },
 "nbformat": 4,
 "nbformat_minor": 5
}
